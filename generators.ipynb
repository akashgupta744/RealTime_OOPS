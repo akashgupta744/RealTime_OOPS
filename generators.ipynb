{
 "cells": [
  {
   "cell_type": "code",
   "execution_count": 8,
   "metadata": {},
   "outputs": [
    {
     "name": "stdout",
     "output_type": "stream",
     "text": [
      "1\n",
      "2\n",
      "3\n",
      "4\n",
      "5\n",
      "6\n",
      "7\n",
      "8\n",
      "9\n"
     ]
    }
   ],
   "source": [
    "def series(n):\n",
    "    a=1\n",
    "    while a<n:\n",
    "        yield a\n",
    "        a+=1\n",
    "s=series(10)\n",
    "for i in s:\n",
    "    print(i)"
   ]
  },
  {
   "cell_type": "code",
   "execution_count": 15,
   "metadata": {},
   "outputs": [
    {
     "name": "stdout",
     "output_type": "stream",
     "text": [
      "1\n",
      "3\n",
      "4\n",
      "7\n",
      "11\n",
      "18\n",
      "29\n",
      "47\n",
      "76\n",
      "123\n"
     ]
    }
   ],
   "source": [
    "# create a generator function which produces fabinocci series\n",
    "def fabi_series(a,b,n):\n",
    "    s=0\n",
    "    while s<n:  \n",
    "        yield a\n",
    "        a=a+b\n",
    "        a,b=b,a\n",
    "        s+=1\n",
    "s=fabi_series(1,3,10)\n",
    "for i in s:\n",
    "\n",
    "    print(i)"
   ]
  },
  {
   "cell_type": "code",
   "execution_count": 23,
   "metadata": {},
   "outputs": [
    {
     "name": "stdout",
     "output_type": "stream",
     "text": [
      "2\n",
      "3\n",
      "5\n",
      "7\n",
      "11\n",
      "13\n",
      "17\n",
      "19\n",
      "23\n",
      "29\n",
      "31\n"
     ]
    }
   ],
   "source": [
    "# create a generator function which is used for creating 1st n prime no\n",
    "def isprime(n):\n",
    "    if n>1:\n",
    "        for i in range(2,n//2+1):\n",
    "            if n%i==0:\n",
    "                return False\n",
    "        else:\n",
    "            return True\n",
    "    else:\n",
    "        return False\n",
    "def prime_generator(limit):\n",
    "    n=1\n",
    "    c=0\n",
    "    while c<=limit:  \n",
    "        if isprime(n):\n",
    "            yield n\n",
    "            c+=1\n",
    "        n+=1\n",
    "pg=prime_generator(10)\n",
    "for i in pg:\n",
    "    print(i)"
   ]
  }
 ],
 "metadata": {
  "kernelspec": {
   "display_name": "Python 3",
   "language": "python",
   "name": "python3"
  },
  "language_info": {
   "codemirror_mode": {
    "name": "ipython",
    "version": 3
   },
   "file_extension": ".py",
   "mimetype": "text/x-python",
   "name": "python",
   "nbconvert_exporter": "python",
   "pygments_lexer": "ipython3",
   "version": "3.11.3"
  }
 },
 "nbformat": 4,
 "nbformat_minor": 2
}
