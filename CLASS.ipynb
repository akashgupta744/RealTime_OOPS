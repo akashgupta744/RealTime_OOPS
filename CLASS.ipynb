{
 "cells": [
  {
   "cell_type": "code",
   "execution_count": 15,
   "metadata": {},
   "outputs": [
    {
     "name": "stdout",
     "output_type": "stream",
     "text": [
      "first line of outer\n",
      "<function hai at 0x000001F2081DDB20>\n",
      "hai is started\n",
      "hai is ended\n",
      "last line of outer\n",
      "<function outer.<locals>.inner at 0x000001F2081DDDA0>\n",
      "first line of inner\n",
      "hai is started\n",
      "hai is ended\n",
      "lastline of inner\n"
     ]
    }
   ],
   "source": [
    "def outer(arg):\n",
    "    print('first line of outer')\n",
    "    print(arg)\n",
    "    arg()\n",
    "    def inner():\n",
    "        print('first line of inner')\n",
    "        arg()\n",
    "        print('lastline of inner')\n",
    "    print('last line of outer')\n",
    "    return inner\n",
    "@ outer\n",
    "def hai():\n",
    "    print('hai is started')\n",
    "    print('hai is ended')\n",
    "print(hai)\n",
    "hai()"
   ]
  },
  {
   "cell_type": "code",
   "execution_count": 4,
   "metadata": {},
   "outputs": [
    {
     "name": "stdout",
     "output_type": "stream",
     "text": [
      "Name of Student is akash gupta\n",
      "Age is 23\n",
      "class is 10th\n",
      "Student ID is 592418\n",
      "student fees 21000\n",
      "amount paid by the student 10000\n",
      "remaining amount is 11000\n",
      "Name of Student is akash\n",
      "Age is 23\n",
      "class is 11th\n",
      "Student ID is 592418\n",
      "student fees 22000\n",
      "amount paid by the student 13000\n",
      "remaining amount is 9000\n"
     ]
    }
   ],
   "source": [
    "class School:\n",
    "    school_name='DPS'\n",
    "    school_location='Gwalior'\n",
    "    school_principal='miss.peter'\n",
    "    school_fees={'1th':12000,'2nd':13000,'3rd':14000,'4th':15000,'5th':16000,\n",
    "                '6th':17000,'7th':18000,'8th':19000,'9th':20000,'10th':21000,'11th':22000,'12th':23000,}\n",
    "    def __init__ (self,n,a,c,id,am):\n",
    "        self.stud_Name=n\n",
    "        self.stud_Age=a\n",
    "        self.stud_Class=c\n",
    "        self.stud_ID=id\n",
    "        self.paid_amount=am\n",
    "        self.remaining_amount=School.school_fees.get(self.stud_Class)-self.paid_amount\n",
    "\n",
    "    def student_details(self):\n",
    "        print(f'Name of Student is {self.stud_Name}')\n",
    "        print(f'Age is {self.stud_Age}')\n",
    "        print(f'class is {self.stud_Class}')\n",
    "        print(f'Student ID is {self.stud_ID}')\n",
    "        print('student fees',School.school_fees.get(self.stud_Class))\n",
    "        print(f'amount paid by the student {self.paid_amount}')\n",
    "        print(f'remaining amount is {self.remaining_amount}')\n",
    "\n",
    "Akash=School('akash gupta',23,'10th',592418,10000)\n",
    "Akku=School('akash',23,'11th',592418,13000)\n",
    "\n",
    "\n",
    "School.student_details(Akash) # Akash.student_details()\n",
    "School.student_details(Akku)"
   ]
  }
 ],
 "metadata": {
  "kernelspec": {
   "display_name": "Python 3",
   "language": "python",
   "name": "python3"
  },
  "language_info": {
   "codemirror_mode": {
    "name": "ipython",
    "version": 3
   },
   "file_extension": ".py",
   "mimetype": "text/x-python",
   "name": "python",
   "nbconvert_exporter": "python",
   "pygments_lexer": "ipython3",
   "version": "3.11.3"
  },
  "orig_nbformat": 4
 },
 "nbformat": 4,
 "nbformat_minor": 2
}
