{
 "cells": [
  {
   "cell_type": "code",
   "execution_count": 1,
   "metadata": {},
   "outputs": [
    {
     "name": "stdout",
     "output_type": "stream",
     "text": [
      "2\n",
      "2\n",
      "2\n",
      "1\n",
      "1\n"
     ]
    }
   ],
   "source": [
    "class Employee:\n",
    "    comoany_name='TCS'\n",
    "    company_location='banglore'\n",
    "    Ecount=0\n",
    "    def __init__(self,n,a,s,e):\n",
    "        self.Ename=n\n",
    "        self.Eage=a\n",
    "        self.Especilization=s\n",
    "        self.Eexperience=e\n",
    "\n",
    "        Employee.Ecount+=1\n",
    "\n",
    "    def __del__(self):\n",
    "        Employee.Ecount-=1\n",
    "\n",
    "Akash=Employee('Akash Gupta',23,'PythonDoveloper',4)\n",
    "Akku=Employee('Akash',23,'PyDoveloper',4)\n",
    "print(Employee.Ecount)\n",
    "print(Akash.Ecount)\n",
    "print(Akku.Ecount)\n",
    "del Akku\n",
    "print(Employee.Ecount)\n",
    "print(Akash.Ecount)\n",
    "\n"
   ]
  }
 ],
 "metadata": {
  "kernelspec": {
   "display_name": "Python 3",
   "language": "python",
   "name": "python3"
  },
  "language_info": {
   "codemirror_mode": {
    "name": "ipython",
    "version": 3
   },
   "file_extension": ".py",
   "mimetype": "text/x-python",
   "name": "python",
   "nbconvert_exporter": "python",
   "pygments_lexer": "ipython3",
   "version": "3.11.3"
  }
 },
 "nbformat": 4,
 "nbformat_minor": 2
}
