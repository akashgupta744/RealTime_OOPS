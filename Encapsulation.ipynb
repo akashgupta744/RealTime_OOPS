{
 "cells": [
  {
   "cell_type": "code",
   "execution_count": 2,
   "metadata": {},
   "outputs": [
    {
     "name": "stdout",
     "output_type": "stream",
     "text": [
      "Akash\n",
      "25\n",
      "Akash\n",
      "25\n",
      "Happy Birthday, Akash! You are now 26 years old.\n"
     ]
    }
   ],
   "source": [
    "class Person:\n",
    "    def __init__(self, n, a):\n",
    "        self.name = n  # Encapsulated attribute\n",
    "        self.age = a    # Encapsulated attribute\n",
    "\n",
    "    def get_name(self):\n",
    "        return self.name\n",
    "\n",
    "    def get_age(self):\n",
    "        return self.age\n",
    "\n",
    "    def celebrate_birthday(self):\n",
    "        self.age += 1\n",
    "        print(f\"Happy Birthday, {self.name}! You are now {self.age} years old.\")\n",
    "\n",
    "# Creating an instance of the Person class\n",
    "person = Person(\"Akash\", 25)\n",
    "\n",
    "# Attempting to directly access encapsulated attributes (which is discouraged)\n",
    "print(person.name)  # Output: Akash\n",
    "print(person.age)   # Output: 25\n",
    "\n",
    "# Accessing encapsulated attributes using methods\n",
    "print(person.get_name())  # Output: Akash\n",
    "print(person.get_age())   # Output: 25\n",
    "\n",
    "# Celebrating a birthday\n",
    "person.celebrate_birthday()  # Output: Happy Birthday, Akash! You are now 26 years old.\n"
   ]
  },
  {
   "cell_type": "code",
   "execution_count": 4,
   "metadata": {},
   "outputs": [
    {
     "name": "stdout",
     "output_type": "stream",
     "text": [
      "Public\n",
      "Protected\n",
      "Private\n",
      "This is a public method.\n",
      "This is a protected method.\n",
      "This is a private method.\n"
     ]
    }
   ],
   "source": [
    "class MyClass:\n",
    "    def __init__(self, public_var, _protected_var, __private_var):\n",
    "        self.public_var = public_var           # Public variable\n",
    "        self._protected_var = _protected_var    # Protected variable\n",
    "        self.__private_var = __private_var     # Private variable\n",
    "\n",
    "    def public_method(self):\n",
    "        print(\"This is a public method.\")      # Public method\n",
    "\n",
    "    def _protected_method(self):\n",
    "        print(\"This is a protected method.\")   # Protected method\n",
    "\n",
    "    def __private_method(self):\n",
    "        print(\"This is a private method.\")     # Private method\n",
    "\n",
    "# Creating an instance of MyClass\n",
    "obj = MyClass(\"Public\", \"Protected\", \"Private\")\n",
    "\n",
    "# Accessing variables and methods\n",
    "print(obj.public_var)            # Output: Public\n",
    "print(obj._protected_var)         # Output: Protected\n",
    "print(obj._MyClass__private_var)  # Output: Private (Name mangling for private variable)\n",
    "\n",
    "obj.public_method()               # Output: This is a public method.\n",
    "obj._protected_method()           # Output: This is a protected method.\n",
    "obj._MyClass__private_method()    # Output: This is a private method.\n"
   ]
  }
 ],
 "metadata": {
  "kernelspec": {
   "display_name": "Python 3",
   "language": "python",
   "name": "python3"
  },
  "language_info": {
   "codemirror_mode": {
    "name": "ipython",
    "version": 3
   },
   "file_extension": ".py",
   "mimetype": "text/x-python",
   "name": "python",
   "nbconvert_exporter": "python",
   "pygments_lexer": "ipython3",
   "version": "3.11.3"
  }
 },
 "nbformat": 4,
 "nbformat_minor": 2
}
