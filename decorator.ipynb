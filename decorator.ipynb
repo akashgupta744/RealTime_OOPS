{
 "cells": [
  {
   "cell_type": "code",
   "execution_count": 8,
   "metadata": {},
   "outputs": [
    {
     "name": "stdout",
     "output_type": "stream",
     "text": [
      "outer is started\n",
      "<function hai at 0x00000247E7C2BBA0>\n",
      "outer is ended\n",
      "<function outer.<locals>.inner at 0x00000247E8761300>\n",
      "inner is started\n",
      "hai is started\n",
      "hai is ended\n",
      "inner is ended\n"
     ]
    }
   ],
   "source": [
    "def outer(arg): # arg =  hai function address\n",
    "    print('outer is started')\n",
    "    print(arg)\n",
    "    def inner():\n",
    "        print('inner is started')\n",
    "        arg()\n",
    "        print('inner is ended')\n",
    "    print('outer is ended')\n",
    "    return inner\n",
    "@outer # hai = outer(hai)\n",
    "def hai():\n",
    "    print('hai is started')\n",
    "    print('hai is ended')\n",
    "print(hai)\n",
    "hai() # hai = inner function address \n",
    "\n",
    "    "
   ]
  },
  {
   "cell_type": "code",
   "execution_count": null,
   "metadata": {},
   "outputs": [
    {
     "name": "stdout",
     "output_type": "stream",
     "text": [
      "5 roi is modified\n",
      "10000 withdrwal is successful\n",
      "your balance is 1113344\n",
      "bank name is lena-dena\n",
      "bank ifsc is l@d1234\n",
      "bank branch is gwalior\n",
      "bank manager is mr.Akash Gupta\n",
      "bank roi is 5\n"
     ]
    }
   ],
   "source": [
    "class Bank:\n",
    "    bank_Name='lena-dena'\n",
    "    bank_ifsc='l@d1234'\n",
    "    bank_branch='gwalior'\n",
    "    bank_manager='mr.Akash Gupta'\n",
    "    bank_roi=7.7\n",
    "    def __init__(self,n,ac,ad,g,b=10):\n",
    "        self.name=n\n",
    "        self.account=ac\n",
    "        self.adhar=ad\n",
    "        self.gender=g\n",
    "        self.balance=b\n",
    "\n",
    "    @classmethod\n",
    "    def display_bank_details(cls):\n",
    "        print('bank name is',cls.bank_Name)\n",
    "        print('bank ifsc is',cls.bank_ifsc)\n",
    "        print('bank branch is',cls.bank_branch)\n",
    "        print('bank manager is',cls.bank_manager)\n",
    "        print('bank roi is',cls.bank_roi)\n",
    "\n",
    "    @staticmethod\n",
    "    def get_int_data(s):\n",
    "        data=int(input(f'enter int data for {s}'))\n",
    "        return data\n",
    "\n",
    "    @classmethod\n",
    "    def modify_roi(cls):\n",
    "        newroi=cls.get_int_data('newroi')\n",
    "        cls.bank_roi=newroi\n",
    "        print(newroi,'roi is modified')\n",
    "        \n",
    "    def withdraw(self):\n",
    "        amount=self.get_int_data('withdraw amount')\n",
    "        if self.balance>=amount:\n",
    "            self.balance-=amount\n",
    "            print(amount,'withdrwal is successful')\n",
    "            print(f'your balance is {self.balance}')\n",
    "        else:\n",
    "            print('low balance')\n",
    "            print(f'your balance is {self.balance}')\n",
    "\n",
    "akash=Bank('Akash Gupta',2334,9890,'Male',1123344)\n",
    "itii=Bank('itishree',236764,3456544,'female',123456789)\n",
    "akash.modify_roi()\n",
    "akash.withdraw()\n",
    "Bank.display_bank_details()\n",
    "\n"
   ]
  },
  {
   "cell_type": "code",
   "execution_count": 1,
   "metadata": {},
   "outputs": [
    {
     "name": "stdout",
     "output_type": "stream",
     "text": [
      "2\n",
      "3\n",
      "5\n",
      "7\n",
      "11\n",
      "13\n",
      "17\n",
      "19\n",
      "23\n",
      "29\n",
      "Time Taken is 2.5224907398223877 m/s\n",
      "2\n",
      "4\n",
      "6\n",
      "8\n",
      "10\n",
      "12\n",
      "14\n",
      "16\n",
      "18\n",
      "20\n",
      "Time Taken is 1.912210464477539 m/s\n"
     ]
    }
   ],
   "source": [
    "# time_decorator for prime no. or even no.\n",
    "def time_decorator(arg):\n",
    "    def inner():\n",
    "        import time\n",
    "        initial=time.time()\n",
    "        arg()\n",
    "        final=time.time()\n",
    "        print('Time Taken is',final-initial,'m/s')\n",
    "    return inner\n",
    "@ time_decorator\n",
    "def primeNumber():\n",
    "    limit=int(input('enter prime no.terms'))\n",
    "    n=1\n",
    "    c=0\n",
    "    while True:\n",
    "        if n>1:\n",
    "            for i in range(2,n//2+1):\n",
    "                if n%i==0:\n",
    "                    break\n",
    "            else:\n",
    "                print(n)\n",
    "                c+=1\n",
    "        if c==limit:\n",
    "            break\n",
    "        n+=1\n",
    "primeNumber()  \n",
    "@ time_decorator\n",
    "def evenNumber():\n",
    "    limit=int(input('enter even no.terms'))\n",
    "    n=1\n",
    "    c=0\n",
    "    while True:\n",
    "        if n%2==0:\n",
    "            print(n)\n",
    "            c+=1\n",
    "        if c==limit:\n",
    "            break\n",
    "        n+=1\n",
    "evenNumber()\n",
    "\n",
    "\n",
    "\n",
    "\n",
    "\n"
   ]
  },
  {
   "cell_type": "code",
   "execution_count": null,
   "metadata": {},
   "outputs": [],
   "source": []
  }
 ],
 "metadata": {
  "kernelspec": {
   "display_name": "Python 3",
   "language": "python",
   "name": "python3"
  },
  "language_info": {
   "codemirror_mode": {
    "name": "ipython",
    "version": 3
   },
   "file_extension": ".py",
   "mimetype": "text/x-python",
   "name": "python",
   "nbconvert_exporter": "python",
   "pygments_lexer": "ipython3",
   "version": "3.12.1"
  },
  "orig_nbformat": 4
 },
 "nbformat": 4,
 "nbformat_minor": 2
}
