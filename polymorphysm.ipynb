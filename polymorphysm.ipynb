{
 "cells": [
  {
   "cell_type": "code",
   "execution_count": 3,
   "metadata": {},
   "outputs": [
    {
     "name": "stdout",
     "output_type": "stream",
     "text": [
      "Preparing generic food Preparing fast food quickly.\n",
      "Preparing generic food Preparing fine dining cuisine with attention to detail.\n",
      "Preparing generic food Preparing coffee and snacks in a cozy atmosphere.\n"
     ]
    }
   ],
   "source": [
    "# polymorphysm\n",
    "class Restaurant:\n",
    "    def prepare_food(self):\n",
    "        return \"Preparing generic food.\"\n",
    "\n",
    "class FastFood(Restaurant):\n",
    "    def prepare_food(self):\n",
    "        return f\"Preparing generic food and fast food quickly.\"\n",
    "\n",
    "class FineDining(Restaurant):\n",
    "    def prepare_food(self):\n",
    "        return f\"Preparing generic food and fine dining cuisine with attention to detail.\"\n",
    "\n",
    "class Cafe(Restaurant):\n",
    "    def prepare_food(self):\n",
    "        return f\"Preparing generic food and coffee and snacks in a cozy atmosphere.\"\n",
    "def serve_food(restaurant):\n",
    "    return restaurant.prepare_food()\n",
    "\n",
    "# Chaining process demonstrating polymorphism\n",
    "fast_food_place = FastFood()\n",
    "fine_dining_place = FineDining()\n",
    "cafe_place = Cafe()\n",
    "\n",
    "print(serve_food(fast_food_place))\n",
    "print(serve_food(fine_dining_place))\n",
    "print(serve_food(cafe_place))\n"
   ]
  },
  {
   "cell_type": "code",
   "execution_count": 1,
   "metadata": {},
   "outputs": [
    {
     "name": "stdout",
     "output_type": "stream",
     "text": [
      "Preparing generic food. Preparing fast food quickly.\n",
      "Preparing generic food. Preparing fine dining cuisine with attention to detail.\n",
      "Preparing generic food. Preparing coffee and snacks in a cozy atmosphere.\n"
     ]
    }
   ],
   "source": [
    "#chaining along with method overriding\n",
    "class Restaurant:\n",
    "    def prepare_food(self):\n",
    "        return \"Preparing generic food.\"\n",
    "\n",
    "class FastFood(Restaurant):\n",
    "    def prepare_food(self):\n",
    "        return f\"{super().prepare_food()} Preparing fast food quickly.\"\n",
    "\n",
    "class FineDining(Restaurant):\n",
    "    def prepare_food(self):\n",
    "        return f\"{super().prepare_food()} Preparing fine dining cuisine with attention to detail.\"\n",
    "\n",
    "class Cafe(Restaurant):\n",
    "    def prepare_food(self):\n",
    "        return f\"{super().prepare_food()} Preparing coffee and snacks in a cozy atmosphere.\"\n",
    "def serve_food(restaurant):\n",
    "    return restaurant.prepare_food()\n",
    "\n",
    "# Chaining process demonstrating polymorphism\n",
    "fast_food_place = FastFood()\n",
    "fine_dining_place = FineDining()\n",
    "cafe_place = Cafe()\n",
    "\n",
    "print(serve_food(fast_food_place))\n",
    "print(serve_food(fine_dining_place))\n",
    "print(serve_food(cafe_place))\n"
   ]
  },
  {
   "cell_type": "code",
   "execution_count": 2,
   "metadata": {},
   "outputs": [
    {
     "name": "stdout",
     "output_type": "stream",
     "text": [
      "Sedan Toyota Camry is accelerating. Smoothly.\n",
      "SUV Ford Explorer is accelerating. Powerfully.\n",
      "Hatchback Honda Fit is accelerating. Efficiently.\n"
     ]
    }
   ],
   "source": [
    "class Car:\n",
    "    def __init__(self, model):\n",
    "        self.model = model\n",
    "\n",
    "    def accelerate(self):\n",
    "        return f\"{self.model} is accelerating.\"\n",
    "\n",
    "class Sedan(Car):\n",
    "    def accelerate(self):\n",
    "        return f\"Sedan {super().accelerate()} Smoothly.\"\n",
    "\n",
    "class SUV(Car):\n",
    "    def accelerate(self):\n",
    "        return f\"SUV {super().accelerate()} Powerfully.\"\n",
    "\n",
    "class Hatchback(Car):\n",
    "    def accelerate(self):\n",
    "        return f\"Hatchback {super().accelerate()} Efficiently.\"\n",
    "    \n",
    "    \n",
    "sedan = Sedan(\"Toyota Camry\")\n",
    "suv = SUV(\"Ford Explorer\")\n",
    "hatchback = Hatchback(\"Honda Fit\")\n",
    "\n",
    "print(sedan.accelerate())\n",
    "print(suv.accelerate())\n",
    "print(hatchback.accelerate())\n"
   ]
  }
 ],
 "metadata": {
  "kernelspec": {
   "display_name": "Python 3",
   "language": "python",
   "name": "python3"
  },
  "language_info": {
   "codemirror_mode": {
    "name": "ipython",
    "version": 3
   },
   "file_extension": ".py",
   "mimetype": "text/x-python",
   "name": "python",
   "nbconvert_exporter": "python",
   "pygments_lexer": "ipython3",
   "version": "3.11.3"
  }
 },
 "nbformat": 4,
 "nbformat_minor": 2
}
