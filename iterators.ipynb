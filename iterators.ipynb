{
 "cells": [
  {
   "cell_type": "code",
   "execution_count": 27,
   "metadata": {},
   "outputs": [
    {
     "name": "stdout",
     "output_type": "stream",
     "text": [
      "1\n",
      "2\n",
      "3\n",
      "4\n",
      "5\n",
      "6\n",
      "7\n",
      "8\n",
      "9\n"
     ]
    }
   ],
   "source": [
    "class Series:\n",
    "    def __init__(self,sv,ev,up=1):\n",
    "        self.sv=sv\n",
    "        self.ev=ev\n",
    "        self.updation=up\n",
    "    \n",
    "    def __iter__(self):\n",
    "        self.i=self.sv\n",
    "        return self\n",
    "    \n",
    "    def __next__(self):\n",
    "        if self.i < self.ev:\n",
    "            dummy=self.i\n",
    "            self.i+=self.updation\n",
    "            return dummy\n",
    "        raise StopIteration\n",
    "s=Series(1,10)\n",
    "for i in s:\n",
    "    print(i)\n"
   ]
  },
  {
   "cell_type": "code",
   "execution_count": 23,
   "metadata": {},
   "outputs": [
    {
     "name": "stdout",
     "output_type": "stream",
     "text": [
      "1\n",
      "8\n",
      "27\n",
      "64\n",
      "125\n",
      "216\n",
      "343\n",
      "512\n",
      "729\n"
     ]
    }
   ],
   "source": [
    "class Series:\n",
    "    def __init__(self,sv,ev,up=1):\n",
    "        self.sv=sv\n",
    "        self.ev=ev\n",
    "        self.updation=up\n",
    "    \n",
    "    def __iter__(self):\n",
    "        self.i=self.sv\n",
    "        return self\n",
    "    \n",
    "    def __next__(self):\n",
    "        if self.i < self.ev:\n",
    "            dummy=self.i\n",
    "            self.i+=self.updation\n",
    "            return dummy**3\n",
    "        raise StopIteration\n",
    "s=Series(1,10)\n",
    "for i in s:\n",
    "    print(i)\n"
   ]
  },
  {
   "cell_type": "code",
   "execution_count": 21,
   "metadata": {},
   "outputs": [
    {
     "name": "stdout",
     "output_type": "stream",
     "text": [
      " 2 4 6 8 "
     ]
    }
   ],
   "source": [
    "class Even:\n",
    "    def __init__(self,sv,ev,up=1):\n",
    "        self.sv=sv\n",
    "        self.ev=ev\n",
    "        self.updation=up\n",
    "    \n",
    "    def __iter__(self):\n",
    "        self.i=self.sv\n",
    "        return self\n",
    "    \n",
    "    def __next__(self):\n",
    "       \n",
    "        if self.i < self.ev:\n",
    "            dummy=self.i\n",
    "            self.i+=self.updation\n",
    "            if dummy%2==0:\n",
    "                return dummy\n",
    "            else:\n",
    "                return \" \"\n",
    "        raise StopIteration\n",
    "s=Even(1,10)\n",
    "for i in s:\n",
    "    print(i,end=\"\")\n"
   ]
  },
  {
   "cell_type": "code",
   "execution_count": 1,
   "metadata": {},
   "outputs": [
    {
     "name": "stdout",
     "output_type": "stream",
     "text": [
      "fibonacci\n",
      "1 3 4 7 11 18 29 47 76 "
     ]
    }
   ],
   "source": [
    "class Fibo:\n",
    "    def __init__(self,ev,n1,n2,up=1):\n",
    "        self.sv=n1\n",
    "        self.ev=ev\n",
    "        self.updation=up\n",
    "        self.a=n1\n",
    "        self.b=n2\n",
    "    \n",
    "    def __iter__(self):\n",
    "        self.i=self.sv\n",
    "        return self\n",
    "    \n",
    "    def __next__(self):\n",
    "        if self.i < self.ev:\n",
    "            self.dummy=self.a\n",
    "            self.a+=self.b\n",
    "            self.a,self.b=self.b,self.a\n",
    "            self.i+=self.updation\n",
    "            return self.dummy\n",
    "        raise StopIteration\n",
    "s=Fibo(10,int(input('a')),int(input('b')))\n",
    "print('fibonacci')\n",
    "for i in s:\n",
    "    print(i,end=\" \")\n"
   ]
  }
 ],
 "metadata": {
  "kernelspec": {
   "display_name": "Python 3",
   "language": "python",
   "name": "python3"
  },
  "language_info": {
   "codemirror_mode": {
    "name": "ipython",
    "version": 3
   },
   "file_extension": ".py",
   "mimetype": "text/x-python",
   "name": "python",
   "nbconvert_exporter": "python",
   "pygments_lexer": "ipython3",
   "version": "3.11.3"
  }
 },
 "nbformat": 4,
 "nbformat_minor": 2
}
