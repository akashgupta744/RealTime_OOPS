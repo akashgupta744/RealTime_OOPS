{
 "cells": [
  {
   "cell_type": "code",
   "execution_count": 2,
   "metadata": {},
   "outputs": [
    {
     "name": "stdout",
     "output_type": "stream",
     "text": [
      "tickets booked successfully\n",
      "left out tickets are 0\n",
      "tickets are no available\n"
     ]
    }
   ],
   "source": [
    "def singleton(arg): # multiplex class address\n",
    "    d={}\n",
    "    def inner():\n",
    "        if \"multi\" not in d:\n",
    "            d[\"multi\"]=arg()\n",
    "        return d[\"multi\"]\n",
    "    return inner\n",
    "\n",
    "@singleton #Multiplex = singleton(Multiplex)\n",
    "class Multiplex():\n",
    "    def __init__(self):\n",
    "        self.n=300\n",
    "    def booking(self):\n",
    "        tickets=int(input(\"Enter Number of Tickets\"))\n",
    "        if self.n>=tickets:\n",
    "            self.n-=tickets\n",
    "            print(\"tickets booked successfully\")\n",
    "            print(\"left out tickets are\",self.n)\n",
    "        else:\n",
    "            print(\"tickets are no available\")\n",
    "\n",
    "Akash=Multiplex()\n",
    "Akash.booking()\n",
    "Akku=Multiplex()\n",
    "Akku.booking()"
   ]
  },
  {
   "cell_type": "code",
   "execution_count": 15,
   "metadata": {},
   "outputs": [
    {
     "name": "stdout",
     "output_type": "stream",
     "text": [
      "patym booked 2 tickets for 'Animal'.\n",
      "bookmyshow booked 1 tickets for 'Animal'.\n",
      "bookmyshow booked 3 tickets for 'Animal'.\n",
      "patym booked 300 tickets for 'Animal'.\n"
     ]
    }
   ],
   "source": [
    "def singleton(class_):\n",
    "    instances = {}\n",
    "\n",
    "    def wrapper(*args, **kwargs):\n",
    "        if class_ not in instances:\n",
    "            instances[class_] = class_(*args, **kwargs)\n",
    "        return instances[class_]\n",
    "\n",
    "    return wrapper\n",
    "\n",
    "\n",
    "@singleton\n",
    "class Movie:\n",
    "    def __init__(self, name):\n",
    "        self.name = name\n",
    "\n",
    "    def book_ticket(self, application, num_tickets):\n",
    "        return f\"{application} booked {num_tickets} tickets for '{self.name}'.\"\n",
    "\n",
    "\n",
    "# Usage\n",
    "if __name__ == \"__main__\":\n",
    "    # Two booking applications\n",
    "    app1 = \"patym\"\n",
    "    app2 = \"bookmyshow\"\n",
    "\n",
    "    # Three movies\n",
    "    movie1 = Movie(\"Animal\")\n",
    "    movie2 = Movie(\"sallar\")\n",
    "    movie3 = Movie(\"sham Bhadur\")\n",
    "\n",
    "    # Booking tickets using the singleton instances\n",
    "    print(movie3.book_ticket(app1, 2))\n",
    "    print(movie2.book_ticket(app2, 1))\n",
    "    print(movie3.book_ticket(app2, 3))\n",
    "    print(movie3.book_ticket(app1, 300))\n",
    "\n",
    "    # Confirmi\n"
   ]
  }
 ],
 "metadata": {
  "kernelspec": {
   "display_name": "Python 3",
   "language": "python",
   "name": "python3"
  },
  "language_info": {
   "codemirror_mode": {
    "name": "ipython",
    "version": 3
   },
   "file_extension": ".py",
   "mimetype": "text/x-python",
   "name": "python",
   "nbconvert_exporter": "python",
   "pygments_lexer": "ipython3",
   "version": "3.12.1"
  }
 },
 "nbformat": 4,
 "nbformat_minor": 2
}
